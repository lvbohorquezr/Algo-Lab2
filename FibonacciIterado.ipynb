{
 "cells": [
  {
   "cell_type": "markdown",
   "metadata": {},
   "source": [
    "# Algo - Lab 2  \n",
    "# Insertion Sort"
   ]
  },
  {
   "cell_type": "code",
   "execution_count": 18,
   "metadata": {},
   "outputs": [],
   "source": [
    "import numpy as np\n",
    "\n",
    "\n",
    "import random as rnd\n",
    "\n",
    "import math\n",
    "\n",
    "from itertools import permutations"
   ]
  },
  {
   "cell_type": "code",
   "execution_count": 19,
   "metadata": {},
   "outputs": [],
   "source": [
    "##Inicialización \n",
    "class Counter:\n",
    "    def count(self):\n",
    "        self.steps += 1\n",
    "    def reset(self):\n",
    "        self.steps = 0\n",
    "    def __init__(self):\n",
    "        self.steps = 0\n",
    "    def print_steps(self):\n",
    "        return self.steps"
   ]
  },
  {
   "cell_type": "code",
   "execution_count": 20,
   "metadata": {},
   "outputs": [],
   "source": [
    "##Permutaciones aleatorias\n",
    "def randomPerm(n):\n",
    "    a=[]\n",
    "    for i in range(n):\n",
    "        a.append(i+1)\n",
    "        for i in range(len(a)-1):\n",
    "            j = rnd.randint(i, len(a)-1)\n",
    "            aux = a[i]\n",
    "            a[i] = a[j]\n",
    "            a[j] = aux\n",
    "    return a\n",
    "\n",
    "\n",
    "\n",
    "\n",
    "\n",
    "\n",
    "def perm(n):\n",
    "  i = 0\n",
    "  permutaciones = []\n",
    "  while i < math.factorial(n):\n",
    "    lista = randomPerm(n)\n",
    "    if not lista in permutaciones:\n",
    "      permutaciones.append(lista)\n",
    "      i+=1\n",
    "  permutaciones.sort()\n",
    "  return(permutaciones)\n"
   ]
  },
  {
   "cell_type": "markdown",
   "metadata": {},
   "source": [
    "# Número de instrucciones "
   ]
  },
  {
   "cell_type": "markdown",
   "metadata": {},
   "source": [
    "Cantidad de líneas\n"
   ]
  },
  {
   "cell_type": "code",
   "execution_count": 21,
   "metadata": {},
   "outputs": [],
   "source": [
    "def insertion_sort(a, acct):\n",
    "    for i in range(len(a)):\n",
    "        temp = a[i]; acct.count()\n",
    "        j = i; acct.count()\n",
    "        acct.count()\n",
    "        while j > 0 and temp < a[j - 1]:\n",
    "            acct.count()\n",
    "            a[j] = a[j - 1]; acct.count()\n",
    "            j -= 1; acct.count()\n",
    "        a[j] = temp; acct.count()\n",
    "    return a"
   ]
  },
  {
   "cell_type": "code",
   "execution_count": 22,
   "metadata": {},
   "outputs": [
    {
     "name": "stdout",
     "output_type": "stream",
     "text": [
      "[(32, 9, 34, 45), (32, 9, 45, 34), (32, 34, 9, 45), (32, 34, 45, 9), (32, 45, 9, 34), (32, 45, 34, 9), (9, 32, 34, 45), (9, 32, 45, 34), (9, 34, 32, 45), (9, 34, 45, 32), (9, 45, 32, 34), (9, 45, 34, 32), (34, 32, 9, 45), (34, 32, 45, 9), (34, 9, 32, 45), (34, 9, 45, 32), (34, 45, 32, 9), (34, 45, 9, 32), (45, 32, 9, 34), (45, 32, 34, 9), (45, 9, 32, 34), (45, 9, 34, 32), (45, 34, 32, 9), (45, 34, 9, 32)]\n",
      "[19, 22, 22, 25, 25, 28, 16, 19, 19, 22, 22, 25, 25, 28, 22, 25, 31, 28, 28, 31, 25, 28, 34, 31]\n",
      "('Mean: ', 25.0)\n"
     ]
    },
    {
     "data": {
      "text/plain": [
       "(array([ 1.,  0.,  0.,  0.,  3.,  0.,  0.,  0.,  5.,  0.,  0.,  0.,  6.,\n",
       "         0.,  0.,  0.,  5.,  0.,  0.,  0.,  3.,  0.,  0.,  1.]),\n",
       " array([ 16.  ,  16.75,  17.5 ,  18.25,  19.  ,  19.75,  20.5 ,  21.25,\n",
       "         22.  ,  22.75,  23.5 ,  24.25,  25.  ,  25.75,  26.5 ,  27.25,\n",
       "         28.  ,  28.75,  29.5 ,  30.25,  31.  ,  31.75,  32.5 ,  33.25,  34.  ]),\n",
       " <a list of 24 Patch objects>)"
      ]
     },
     "execution_count": 22,
     "metadata": {},
     "output_type": "execute_result"
    },
    {
     "data": {
      "image/png": "[encoded data removed]",
      "text/plain": [
       "<matplotlib.figure.Figure at 0x7f11a94b6090>"
      ]
     },
     "metadata": {},
     "output_type": "display_data"
    }
   ],
   "source": [
    "b = list(permutations(rnd.sample(range(50), 4),4))\n",
    "r = []\n",
    "print (b)\n",
    "\n",
    "\n",
    "for i in range(len(b)):\n",
    "    acct = Counter()\n",
    "    insertion_sort(list(b[i]),acct)\n",
    "    r.append(acct.print_steps())\n",
    "print (r)\n",
    "print (\"Mean: \", np.mean(r))\n",
    "plt.hist(r,len(b))"
   ]
  },
  {
   "cell_type": "markdown",
   "metadata": {},
   "source": [
    "# Número de comparaciones"
   ]
  },
  {
   "cell_type": "raw",
   "metadata": {},
   "source": [
    "Cantidad de leídas "
   ]
  },
  {
   "cell_type": "code",
   "execution_count": 23,
   "metadata": {},
   "outputs": [],
   "source": [
    "def insertion_sort(a, acct):\n",
    "    for i in range(len(a)):\n",
    "        temp = a[i]; \n",
    "        j = i; \n",
    "        while j > 0 and temp < a[j - 1]:\n",
    "            acct.count()\n",
    "            a[j] = a[j - 1]; \n",
    "            j -= 1; \n",
    "        a[j] = temp; \n",
    "        acct.count()\n",
    "    return a"
   ]
  },
  {
   "cell_type": "code",
   "execution_count": 24,
   "metadata": {},
   "outputs": [
    {
     "name": "stdout",
     "output_type": "stream",
     "text": [
      "[8, 9, 7, 6, 8, 7, 9, 10, 8, 7, 9, 8, 6, 5, 7, 6, 4, 5, 7, 6, 8, 7, 5, 6]\n",
      "('Mean: ', 7.0)\n"
     ]
    },
    {
     "data": {
      "text/plain": [
       "(array([ 1.,  0.,  0.,  0.,  3.,  0.,  0.,  0.,  5.,  0.,  0.,  0.,  6.,\n",
       "         0.,  0.,  0.,  5.,  0.,  0.,  0.,  3.,  0.,  0.,  1.]),\n",
       " array([  4.  ,   4.25,   4.5 ,   4.75,   5.  ,   5.25,   5.5 ,   5.75,\n",
       "          6.  ,   6.25,   6.5 ,   6.75,   7.  ,   7.25,   7.5 ,   7.75,\n",
       "          8.  ,   8.25,   8.5 ,   8.75,   9.  ,   9.25,   9.5 ,   9.75,  10.  ]),\n",
       " <a list of 24 Patch objects>)"
      ]
     },
     "execution_count": 24,
     "metadata": {},
     "output_type": "execute_result"
    },
    {
     "data": {
      "image/png": "[encoded data removed]",
      "text/plain": [
       "<matplotlib.figure.Figure at 0x7f11a96d0c50>"
      ]
     },
     "metadata": {},
     "output_type": "display_data"
    }
   ],
   "source": [
    "b = list(permutations(rnd.sample(range(50), 4),4))\n",
    "r = []\n",
    "\n",
    "\n",
    "\n",
    "\n",
    "\n",
    "for i in range(len(b)):\n",
    "    acct = Counter()\n",
    "    insertion_sort(list(b[i]),acct)\n",
    "    r.append(acct.print_steps())\n",
    "print (r)\n",
    "print (\"Mean: \", np.mean(r))\n",
    "plt.hist(r,len(b))"
   ]
  },
  {
   "cell_type": "markdown",
   "metadata": {},
   "source": [
    "# Número de intercambios"
   ]
  },
  {
   "cell_type": "raw",
   "metadata": {},
   "source": [
    "Cantidad de swaps"
   ]
  },
  {
   "cell_type": "code",
   "execution_count": 25,
   "metadata": {},
   "outputs": [],
   "source": [
    "def insertion_sort(a, acct):\n",
    "    for i in range(len(a)):\n",
    "        temp = a[i]; \n",
    "        j = i; \n",
    "        while j > 0 and temp < a[j - 1]:\n",
    "            a[j] = a[j - 1]; \n",
    "            j -= 1; \n",
    "            acct.count()\n",
    "        a[j] = temp; "
   ]
  },
  {
   "cell_type": "code",
   "execution_count": 26,
   "metadata": {},
   "outputs": [
    {
     "name": "stdout",
     "output_type": "stream",
     "text": [
      "[6, 5, 5, 4, 4, 3, 5, 4, 4, 3, 3, 2, 4, 3, 3, 2, 2, 1, 3, 2, 2, 1, 1, 0]\n",
      "('Mean: ', 3.0)\n"
     ]
    },
    {
     "data": {
      "text/plain": [
       "(array([ 1.,  0.,  0.,  0.,  3.,  0.,  0.,  0.,  5.,  0.,  0.,  0.,  6.,\n",
       "         0.,  0.,  0.,  5.,  0.,  0.,  0.,  3.,  0.,  0.,  1.]),\n",
       " array([ 0.  ,  0.25,  0.5 ,  0.75,  1.  ,  1.25,  1.5 ,  1.75,  2.  ,\n",
       "         2.25,  2.5 ,  2.75,  3.  ,  3.25,  3.5 ,  3.75,  4.  ,  4.25,\n",
       "         4.5 ,  4.75,  5.  ,  5.25,  5.5 ,  5.75,  6.  ]),\n",
       " <a list of 24 Patch objects>)"
      ]
     },
     "execution_count": 26,
     "metadata": {},
     "output_type": "execute_result"
    },
    {
     "data": {
      "image/png": "[encoded data removed]",
      "text/plain": [
       "<matplotlib.figure.Figure at 0x7f11a96f06d0>"
      ]
     },
     "metadata": {},
     "output_type": "display_data"
    }
   ],
   "source": [
    "b = list(permutations(rnd.sample(range(50), 4),4))\n",
    "r = []\n",
    "\n",
    "\n",
    "for i in range(len(b)):\n",
    "    acct = Counter()\n",
    "    insertion_sort(list(b[i]),acct)\n",
    "    r.append(acct.print_steps())\n",
    "print (r)\n",
    "print (\"Mean: \", np.mean(r))\n",
    "plt.hist(r,len(b))"
   ]
  },
  {
   "cell_type": "markdown",
   "metadata": {},
   "source": [
    "# Número de preguntas while"
   ]
  },
  {
   "cell_type": "raw",
   "metadata": {},
   "source": [
    "Cantidad de \"revisiones\" realizadas en cada iteración"
   ]
  },
  {
   "cell_type": "code",
   "execution_count": 27,
   "metadata": {},
   "outputs": [],
   "source": [
    "def insertion_sort(a, acct):\n",
    "    for i in range(len(a)):\n",
    "        temp = a[i]; \n",
    "        j = i; \n",
    "        acct.count()\n",
    "        while j > 0 and temp < a[j - 1]:\n",
    "            acct.count()\n",
    "            a[j] = a[j - 1]; \n",
    "            j -= 1; \n",
    "        acct.count()\n",
    "        a[j] = temp; "
   ]
  },
  {
   "cell_type": "code",
   "execution_count": 28,
   "metadata": {},
   "outputs": [],
   "source": [
    "def insertion_sort(a, acct):\n",
    "    for i in range(len(a)):\n",
    "        temp = a[i]; \n",
    "        j = i; \n",
    "        while j > 0 and temp < a[j - 1]:\n",
    "            acct.count(); acct.count(); acct.count()\n",
    "            a[j] = a[j - 1]; \n",
    "            j -= 1; \n",
    "        a[j] = temp;"
   ]
  },
  {
   "cell_type": "code",
   "execution_count": 29,
   "metadata": {},
   "outputs": [
    {
     "name": "stdout",
     "output_type": "stream",
     "text": [
      "([3, 6, 0, 3, 9, 6, 6, 9, 9, 12, 12, 15, 3, 6, 6, 9, 9, 12, 12, 9, 15, 18, 12, 15], 24)\n",
      "('Mean: ', 9.0)\n"
     ]
    },
    {
     "data": {
      "text/plain": [
       "(array([ 1.,  0.,  0.,  0.,  3.,  0.,  0.,  0.,  5.,  0.,  0.,  0.,  6.,\n",
       "         0.,  0.,  0.,  5.,  0.,  0.,  0.,  3.,  0.,  0.,  1.]),\n",
       " array([  0.  ,   0.75,   1.5 ,   2.25,   3.  ,   3.75,   4.5 ,   5.25,\n",
       "          6.  ,   6.75,   7.5 ,   8.25,   9.  ,   9.75,  10.5 ,  11.25,\n",
       "         12.  ,  12.75,  13.5 ,  14.25,  15.  ,  15.75,  16.5 ,  17.25,  18.  ]),\n",
       " <a list of 24 Patch objects>)"
      ]
     },
     "execution_count": 29,
     "metadata": {},
     "output_type": "execute_result"
    },
    {
     "data": {
      "image/png": "[encoded data removed]",
      "text/plain": [
       "<matplotlib.figure.Figure at 0x7f11a96f0d50>"
      ]
     },
     "metadata": {},
     "output_type": "display_data"
    }
   ],
   "source": [
    "b = list(permutations(rnd.sample(range(50), 4),4))\n",
    "r = []\n",
    "\n",
    "\n",
    "for i in range(len(b)):\n",
    "    acct = Counter()\n",
    "    insertion_sort(list(b[i]),acct)\n",
    "    r.append(acct.print_steps())\n",
    "print (r, len(b))\n",
    "print (\"Mean: \", np.mean(r))\n",
    "plt.hist(r,len(b))"
   ]
  },
  {
   "cell_type": "code",
   "execution_count": null,
   "metadata": {},
   "outputs": [],
   "source": []
  },
  {
   "cell_type": "code",
   "execution_count": null,
   "metadata": {},
   "outputs": [],
   "source": []
  },
  {
   "cell_type": "code",
   "execution_count": null,
   "metadata": {},
   "outputs": [],
   "source": []
  }
 ],
 "metadata": {
  "kernelspec": {
   "display_name": "Python 2",
   "language": "python",
   "name": "python2"
  },
  "language_info": {
   "codemirror_mode": {
    "name": "ipython",
    "version": 2
   },
   "file_extension": ".py",
   "mimetype": "text/x-python",
   "name": "python",
   "nbconvert_exporter": "python",
   "pygments_lexer": "ipython2",
   "version": "2.7.12"
  }
 },
 "nbformat": 4,
 "nbformat_minor": 2
}
